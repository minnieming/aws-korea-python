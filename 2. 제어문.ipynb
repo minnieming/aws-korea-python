{
 "cells": [
  {
   "cell_type": "markdown",
   "id": "19e7bbee",
   "metadata": {},
   "source": [
    "마크다운으로 쓰면 어떤식으로 되는거지?\n",
    "오호 이런식으로 되는거구나. 이거 편하네 ㅋㅋㅋ"
   ]
  },
  {
   "cell_type": "code",
   "execution_count": null,
   "id": "63dbef54",
   "metadata": {},
   "outputs": [],
   "source": [
    "# 문자열과 숫자를 프린트하기 위해서는 여러가지 방법이 있다. \n",
    "\n",
    "'''\n",
    "{}로 숫자를 하는 방법\n",
    "\"str(money)\"로 바꿔서 글자 사이에 넣는 방법\n",
    "\"글자\", money,\"글자\" 처럼 각각으로 하는 방법이 있다. \n",
    "'''"
   ]
  },
  {
   "cell_type": "code",
   "execution_count": 1,
   "id": "d97fc805",
   "metadata": {},
   "outputs": [],
   "source": [
    "import time\n",
    "time.sleep(1)"
   ]
  },
  {
   "cell_type": "markdown",
   "id": "68788225",
   "metadata": {},
   "source": [
    "time :\n",
    "컴퓨터에 시간을 관리하는 라이브러리\n",
    "    -> 이미 깔려있어서 깔 필요는 없었지만 pip install time이라고 터미널에 치긴 했다\n",
    "    "
   ]
  },
  {
   "cell_type": "code",
   "execution_count": null,
   "id": "2453cdb1",
   "metadata": {},
   "outputs": [
    {
     "name": "stdout",
     "output_type": "stream",
     "text": [
      "ctrl+c를 눌러야 while문을 빠져나갈 수 있다\n",
      "ctrl+c를 눌러야 while문을 빠져나갈 수 있다\n",
      "ctrl+c를 눌러야 while문을 빠져나갈 수 있다\n",
      "ctrl+c를 눌러야 while문을 빠져나갈 수 있다\n",
      "ctrl+c를 눌러야 while문을 빠져나갈 수 있다\n",
      "ctrl+c를 눌러야 while문을 빠져나갈 수 있다\n",
      "ctrl+c를 눌러야 while문을 빠져나갈 수 있다\n",
      "ctrl+c를 눌러야 while문을 빠져나갈 수 있다\n",
      "ctrl+c를 눌러야 while문을 빠져나갈 수 있다\n",
      "ctrl+c를 눌러야 while문을 빠져나갈 수 있다\n",
      "ctrl+c를 눌러야 while문을 빠져나갈 수 있다\n",
      "ctrl+c를 눌러야 while문을 빠져나갈 수 있다\n",
      "ctrl+c를 눌러야 while문을 빠져나갈 수 있다\n",
      "ctrl+c를 눌러야 while문을 빠져나갈 수 있다\n",
      "ctrl+c를 눌러야 while문을 빠져나갈 수 있다\n",
      "ctrl+c를 눌러야 while문을 빠져나갈 수 있다\n",
      "ctrl+c를 눌러야 while문을 빠져나갈 수 있다\n",
      "ctrl+c를 눌러야 while문을 빠져나갈 수 있다\n",
      "ctrl+c를 눌러야 while문을 빠져나갈 수 있다\n",
      "ctrl+c를 눌러야 while문을 빠져나갈 수 있다\n",
      "ctrl+c를 눌러야 while문을 빠져나갈 수 있다\n",
      "ctrl+c를 눌러야 while문을 빠져나갈 수 있다\n",
      "ctrl+c를 눌러야 while문을 빠져나갈 수 있다\n",
      "ctrl+c를 눌러야 while문을 빠져나갈 수 있다\n",
      "ctrl+c를 눌러야 while문을 빠져나갈 수 있다\n",
      "ctrl+c를 눌러야 while문을 빠져나갈 수 있다\n",
      "ctrl+c를 눌러야 while문을 빠져나갈 수 있다\n",
      "ctrl+c를 눌러야 while문을 빠져나갈 수 있다\n",
      "ctrl+c를 눌러야 while문을 빠져나갈 수 있다\n",
      "ctrl+c를 눌러야 while문을 빠져나갈 수 있다\n",
      "ctrl+c를 눌러야 while문을 빠져나갈 수 있다\n"
     ]
    },
    {
     "ename": "KeyboardInterrupt",
     "evalue": "",
     "output_type": "error",
     "traceback": [
      "\u001b[31m---------------------------------------------------------------------------\u001b[39m",
      "\u001b[31mKeyboardInterrupt\u001b[39m                         Traceback (most recent call last)",
      "\u001b[36mCell\u001b[39m\u001b[36m \u001b[39m\u001b[32mIn[2]\u001b[39m\u001b[32m, line 4\u001b[39m\n\u001b[32m      2\u001b[39m \u001b[38;5;28;01mwhile\u001b[39;00m a<\u001b[32m5\u001b[39m:\n\u001b[32m      3\u001b[39m     \u001b[38;5;28mprint\u001b[39m (\u001b[33m\"\u001b[39m\u001b[33mctrl+c를 눌러야 while문을 빠져나갈 수 있다\u001b[39m\u001b[33m\"\u001b[39m)\n\u001b[32m----> \u001b[39m\u001b[32m4\u001b[39m     \u001b[43mtime\u001b[49m\u001b[43m.\u001b[49m\u001b[43msleep\u001b[49m\u001b[43m(\u001b[49m\u001b[32;43m0.5\u001b[39;49m\u001b[43m)\u001b[49m\n",
      "\u001b[31mKeyboardInterrupt\u001b[39m: "
     ]
    }
   ],
   "source": [
    "a = 0\n",
    "while a<5:\n",
    "    print (\"ctrl+c를 눌러야 while문을 빠져나갈 수 있다 : 하지만 주피터에서는 저거 눌러도 안되긴 한다 ㅋㅋㅋ\")\n",
    "    time.sleep(0.5) #0.5초마다 위에꺼가 프린트 된다."
   ]
  },
  {
   "cell_type": "code",
   "execution_count": 5,
   "id": "b316882e",
   "metadata": {},
   "outputs": [
    {
     "name": "stdout",
     "output_type": "stream",
     "text": [
      "50 <class 'str'>\n"
     ]
    }
   ],
   "source": [
    "a = input (\"아무 숫자 값을 입력하세요 : \")\n",
    "print (a, type(a))"
   ]
  },
  {
   "cell_type": "code",
   "execution_count": 6,
   "id": "cf82a3e5",
   "metadata": {},
   "outputs": [
    {
     "data": {
      "text/plain": [
       "'\\ninput의 기본형은 string.\\n다른값으로 변환을 하려면 int(input(\"돈을 넣어 주세요\")) \\n: input은 입력을 위한 값인거고, 그 값이 int여야지 에러가 나지 않는다. (저렇게 넣는게 \\'변환\\'의 의미라고 하셨는데, 에러가 난다고 하시는거 보니까 에러의 의미보다는 값의 자료형을 말하는것 같다.)\\n'"
      ]
     },
     "execution_count": 6,
     "metadata": {},
     "output_type": "execute_result"
    }
   ],
   "source": [
    "'''\n",
    "input의 기본형은 string.\n",
    "다른값으로 변환을 하려면 int(input(\"돈을 넣어 주세요\")) \n",
    ": input은 입력을 위한 값인거고, 그 값이 int여야지 에러가 나지 않는다. (저렇게 넣는게 '변환'의 의미라고 하셨는데, 에러가 난다고 하시는거 보니까 에러의 의미보다는 값의 자료형을 말하는것 같다.)\n",
    "'''\n"
   ]
  },
  {
   "cell_type": "code",
   "execution_count": 7,
   "id": "21b533e5",
   "metadata": {},
   "outputs": [
    {
     "name": "stdout",
     "output_type": "stream",
     "text": [
      "자장면 먹고 싶네요\n",
      "1 반복중입니다. \n",
      "\n",
      "삼겹살 먹고 싶네요\n",
      "2 반복중입니다. \n",
      "\n",
      "광어회 먹고 싶네요\n",
      "3 반복중입니다. \n",
      "\n",
      "갈비 먹고 싶네요\n",
      "4 반복중입니다. \n",
      "\n"
     ]
    }
   ],
   "source": [
    "test_lst=['자장면', '삼겹살','광어회', '갈비']\n",
    "cnt = 0\n",
    "for i in test_lst:\n",
    "    cnt += 1\n",
    "    print(i, '먹고 싶네요')\n",
    "    print(f'{cnt} 반복중입니다. \\n')\n",
    "#f : formatting\n",
    "#파이썬에서는 print 했을때 자동으로 줄바꿈이 일어난다. 여기서 \\n을 한건 줄바꿈을 한번 더 하기 위한것"
   ]
  },
  {
   "cell_type": "code",
   "execution_count": 8,
   "id": "7921065a",
   "metadata": {},
   "outputs": [
    {
     "name": "stdout",
     "output_type": "stream",
     "text": [
      "3\n",
      "7\n",
      "11\n"
     ]
    }
   ],
   "source": [
    "a=[(1,2), (3,4), (5,6)] # 이건 튜플로 이루어져 있는 리스트이다.\n",
    "for (first, last) in a:\n",
    "    print(first + last)"
   ]
  },
  {
   "cell_type": "code",
   "execution_count": 9,
   "id": "4c9a3ade",
   "metadata": {},
   "outputs": [
    {
     "ename": "_IncompleteInputError",
     "evalue": "incomplete input (669132006.py, line 1)",
     "output_type": "error",
     "traceback": [
      "  \u001b[36mCell\u001b[39m\u001b[36m \u001b[39m\u001b[32mIn[9]\u001b[39m\u001b[32m, line 1\u001b[39m\n\u001b[31m    \u001b[39m\u001b[31mprint(a, end(\" \")\u001b[39m\n                     ^\n\u001b[31m_IncompleteInputError\u001b[39m\u001b[31m:\u001b[39m incomplete input\n"
     ]
    }
   ],
   "source": [
    "\n",
    "\n",
    "print(a, end(\" \")"
   ]
  },
  {
   "cell_type": "code",
   "execution_count": null,
   "id": "ad1e3b14",
   "metadata": {},
   "outputs": [
    {
     "name": "stdout",
     "output_type": "stream",
     "text": [
      "정우는 합격입니다.\n",
      "춘식은 불합격입니다.\n",
      "철수는 합격입니다.\n",
      "영희은 불합격입니다.\n",
      "민수는 합격입니다.\n"
     ]
    }
   ],
   "source": [
    "marks = [('정우',90), ('춘식',25),('철수',67),('영희',45),('민수',80)]\n",
    "\n",
    "'''\n",
    "-> 내가한건데 맞지 않는것 같다. \n",
    "-> 개념은 알지만 풀어보면 다를거라서, 오늘은 문제를 많이 풀어보는것도 좋을것 같다. (by. gpt)\n",
    "while True:\n",
    "    if marks.value > 60 :\n",
    "        print (f'{marks.keys}는 합격입니다.')\n",
    "    else:\n",
    "        print(f'{marks.keys}는 불합격입니다.')\n",
    "'''\n",
    "for name, score in marks:\n",
    "    if score >= 60:\n",
    "        print (f'{name}는 합격입니다.')\n",
    "    else:\n",
    "        print(f'{name}은 불합격입니다.')\n"
   ]
  },
  {
   "cell_type": "code",
   "execution_count": 18,
   "id": "bae7aa4e",
   "metadata": {},
   "outputs": [
    {
     "data": {
      "text/plain": [
       "[0, 1, 2, 3, 4, 5, 6, 7, 8, 9, 10]"
      ]
     },
     "execution_count": 18,
     "metadata": {},
     "output_type": "execute_result"
    }
   ],
   "source": [
    "list(range(11))"
   ]
  },
  {
   "cell_type": "code",
   "execution_count": 23,
   "id": "269ab4f6",
   "metadata": {},
   "outputs": [
    {
     "data": {
      "text/plain": [
       "[0, 30, 60, 90]"
      ]
     },
     "execution_count": 23,
     "metadata": {},
     "output_type": "execute_result"
    }
   ],
   "source": [
    "list(range(0,100,30))"
   ]
  },
  {
   "cell_type": "code",
   "execution_count": 24,
   "id": "b5540102",
   "metadata": {},
   "outputs": [
    {
     "data": {
      "text/plain": [
       "[100,\n",
       " 101,\n",
       " 102,\n",
       " 103,\n",
       " 104,\n",
       " 105,\n",
       " 106,\n",
       " 107,\n",
       " 108,\n",
       " 109,\n",
       " 110,\n",
       " 111,\n",
       " 112,\n",
       " 113,\n",
       " 114,\n",
       " 115,\n",
       " 116,\n",
       " 117,\n",
       " 118,\n",
       " 119,\n",
       " 120,\n",
       " 121,\n",
       " 122,\n",
       " 123,\n",
       " 124,\n",
       " 125,\n",
       " 126,\n",
       " 127,\n",
       " 128,\n",
       " 129]"
      ]
     },
     "execution_count": 24,
     "metadata": {},
     "output_type": "execute_result"
    }
   ],
   "source": [
    "list(range(100,130))"
   ]
  },
  {
   "cell_type": "code",
   "execution_count": 29,
   "id": "0b594ce5",
   "metadata": {},
   "outputs": [
    {
     "name": "stdout",
     "output_type": "stream",
     "text": [
      "2x1 = 2 2x2 = 4 2x3 = 6 2x4 = 8 2x5 = 10 2x6 = 12 2x7 = 14 2x8 = 16 2x9 = 18 \n",
      "3x1 = 3 3x2 = 6 3x3 = 9 3x4 = 12 3x5 = 15 3x6 = 18 3x7 = 21 3x8 = 24 3x9 = 27 \n",
      "4x1 = 4 4x2 = 8 4x3 = 12 4x4 = 16 4x5 = 20 4x6 = 24 4x7 = 28 4x8 = 32 4x9 = 36 \n",
      "5x1 = 5 5x2 = 10 5x3 = 15 5x4 = 20 5x5 = 25 5x6 = 30 5x7 = 35 5x8 = 40 5x9 = 45 \n",
      "6x1 = 6 6x2 = 12 6x3 = 18 6x4 = 24 6x5 = 30 6x6 = 36 6x7 = 42 6x8 = 48 6x9 = 54 \n",
      "7x1 = 7 7x2 = 14 7x3 = 21 7x4 = 28 7x5 = 35 7x6 = 42 7x7 = 49 7x8 = 56 7x9 = 63 \n",
      "8x1 = 8 8x2 = 16 8x3 = 24 8x4 = 32 8x5 = 40 8x6 = 48 8x7 = 56 8x8 = 64 8x9 = 72 \n",
      "9x1 = 9 9x2 = 18 9x3 = 27 9x4 = 36 9x5 = 45 9x6 = 54 9x7 = 63 9x8 = 72 9x9 = 81 \n"
     ]
    }
   ],
   "source": [
    "# 구구단\n",
    "for i in range(2,10):\n",
    "    for j in range(1,10):\n",
    "        print (f'{i}x{j} = {i*j}', end=\" \")\n",
    "    print('')"
   ]
  },
  {
   "cell_type": "code",
   "execution_count": 26,
   "id": "9acddc96",
   "metadata": {},
   "outputs": [],
   "source": [
    "i = 10"
   ]
  },
  {
   "cell_type": "code",
   "execution_count": 27,
   "id": "5c3104c9",
   "metadata": {},
   "outputs": [],
   "source": [
    "i = 5"
   ]
  }
 ],
 "metadata": {
  "kernelspec": {
   "display_name": "Python 3",
   "language": "python",
   "name": "python3"
  },
  "language_info": {
   "codemirror_mode": {
    "name": "ipython",
    "version": 3
   },
   "file_extension": ".py",
   "mimetype": "text/x-python",
   "name": "python",
   "nbconvert_exporter": "python",
   "pygments_lexer": "ipython3",
   "version": "3.13.7"
  }
 },
 "nbformat": 4,
 "nbformat_minor": 5
}
